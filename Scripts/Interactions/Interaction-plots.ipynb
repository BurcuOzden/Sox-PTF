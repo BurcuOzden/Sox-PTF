{
 "cells": [
  {
   "cell_type": "markdown",
   "id": "ba0fa962",
   "metadata": {},
   "source": [
    "# Extracting minor and major groove widths from 3DNA .out file and ploting the minor groove graph"
   ]
  },
  {
   "cell_type": "code",
   "execution_count": 55,
   "id": "2702a50c",
   "metadata": {},
   "outputs": [],
   "source": [
    "# load libraries\n",
    "import pandas as pd\n",
    "import shutil\n",
    "import os\n",
    "import random\n",
    "import matplotlib.pyplot as plt\n",
    "import csv\n",
    "from statistics import mean\n",
    "import seaborn as sns\n",
    "import numpy as np"
   ]
  },
  {
   "cell_type": "markdown",
   "id": "3fe442a0",
   "metadata": {},
   "source": [
    "# Fill the required informations to plot the interaction grahs"
   ]
  },
  {
   "cell_type": "code",
   "execution_count": 82,
   "id": "fd1cffe5",
   "metadata": {},
   "outputs": [],
   "source": [
    "# This part should be carefully filled with the correct file name and figure name.\n",
    "\n",
    "# Change the path of output files with yours.\n",
    "data=pd.read_csv(\"Sox11_dyad_sim1.int\", sep=\" \")\n",
    "\n",
    "color_minor='#e2ad3c' #specify the color for barcode plots.\n",
    "#dna-Sox11-reference: #2e487c, dyad:#e2ad3c, SHL2: #d95e46, SHL4:#315356\n",
    "\n",
    "\n",
    "fig_name=\"Sox11_dyad_sim1\" #enter the name of your plot to save.\n"
   ]
  },
  {
   "cell_type": "markdown",
   "id": "ef4f309f",
   "metadata": {},
   "source": [
    "# Plot the barcode graphs of selected interactions"
   ]
  },
  {
   "cell_type": "code",
   "execution_count": 83,
   "id": "023bea75",
   "metadata": {},
   "outputs": [
    {
     "data": {
      "image/png": "[encoded data removed]",
      "text/plain": [
       "<Figure size 360x504 with 5 Axes>"
      ]
     },
     "metadata": {
      "needs_background": "light"
     },
     "output_type": "display_data"
    }
   ],
   "source": [
    "# You don't need to change anything and can run directly.\n",
    "# Just be careful, it saves the figure with the name you specified above.\n",
    "\n",
    "phe56=data['Phe56']\n",
    "met57=data['Met57']\n",
    "arg51=data['Arg51*']\n",
    "asn54=data['Asn54*']\n",
    "tyr118=data['Tyr118*']\n",
    "frame_no=data['frame_no']\n",
    "\n",
    "fig = plt.figure(figsize=(5,7))\n",
    "gs = fig.add_gridspec(5, hspace=1)\n",
    "ax = gs.subplots(sharex=True, sharey=True)\n",
    "\n",
    "\n",
    "\n",
    "ax[0].bar(frame_no/2,phe56, color=color_minor)\n",
    "ax[0].set_title(\"Phe56\", fontsize=14, fontweight='bold')\n",
    "ax[0].axes.yaxis.set_visible(False)\n",
    "ax[1].bar(frame_no/2,met57, color=color_minor)\n",
    "ax[1].set_title(\"Met57\", fontsize=14, fontweight='bold')\n",
    "ax[1].axes.yaxis.set_visible(False)\n",
    "ax[2].bar(frame_no/2,arg51, color=color_minor)\n",
    "ax[2].set_title(\"Arg51*\", fontsize=14, fontweight='bold')\n",
    "ax[2].axes.yaxis.set_visible(False)\n",
    "ax[3].bar(frame_no/2,asn54, color=color_minor)\n",
    "ax[3].set_title(\"Asn54*\", fontsize=14, fontweight='bold')\n",
    "ax[3].axes.yaxis.set_visible(False)\n",
    "ax[4].bar(frame_no/2,tyr118, color=color_minor)\n",
    "ax[4].set_title(\"Tyr118*\", fontsize=14, fontweight='bold')\n",
    "ax[4].axes.yaxis.set_visible(False)\n",
    "plt.xticks(fontsize=12)\n",
    "plt.xlim([200, 500])\n",
    "plt.xlabel(\"ns\")\n",
    "\n",
    "plt.savefig(fig_name + \".pdf\",dpi=300,bbox_inches='tight',format=\"pdf\")\n",
    "plt.show()"
   ]
  },
  {
   "cell_type": "code",
   "execution_count": null,
   "id": "7fb88e04",
   "metadata": {},
   "outputs": [],
   "source": []
  }
 ],
 "metadata": {
  "kernelspec": {
   "display_name": "Python 3",
   "language": "python",
   "name": "python3"
  },
  "language_info": {
   "codemirror_mode": {
    "name": "ipython",
    "version": 3
   },
   "file_extension": ".py",
   "mimetype": "text/x-python",
   "name": "python",
   "nbconvert_exporter": "python",
   "pygments_lexer": "ipython3",
   "version": "3.8.10"
  }
 },
 "nbformat": 4,
 "nbformat_minor": 5
}
